{
 "cells": [
  {
   "cell_type": "code",
   "execution_count": 5,
   "metadata": {},
   "outputs": [
    {
     "name": "stdout",
     "output_type": "stream",
     "text": [
      "5\n",
      "0.26785714285714285\n"
     ]
    }
   ],
   "source": [
    "x=int(input())\n",
    "y=2*x+5\n",
    "z=x**2+5*x+6\n",
    "print(y/z)"
   ]
  },
  {
   "cell_type": "code",
   "execution_count": 6,
   "metadata": {},
   "outputs": [
    {
     "name": "stdout",
     "output_type": "stream",
     "text": [
      "3.7333333333333334\n"
     ]
    }
   ],
   "source": [
    "print(z/y)"
   ]
  },
  {
   "cell_type": "code",
   "execution_count": 8,
   "metadata": {},
   "outputs": [
    {
     "name": "stdout",
     "output_type": "stream",
     "text": [
      "98\n"
     ]
    }
   ],
   "source": [
    "print((2*x-3)*(x+9))\n"
   ]
  },
  {
   "cell_type": "code",
   "execution_count": 3,
   "metadata": {},
   "outputs": [
    {
     "name": "stdout",
     "output_type": "stream",
     "text": [
      "Enter user name:vaishnavi\n",
      "Enter password:vaishu\n",
      "Enter correct password:vaishu\n",
      "Enter correct password:vashu\n",
      "Enter correct password:v@ishu\n",
      "login success!\n"
     ]
    }
   ],
   "source": [
    "un=\"vaishnavi\"\n",
    "pwd=\"v@ishu\"\n",
    "name=input(\"Enter user name:\")\n",
    "pd=input(\"Enter password:\")\n",
    "if (name==un and pwd==pd):\n",
    "    print(\"login success!\")\n",
    "elif (name!=un and pwd==pd):\n",
    "    i=0\n",
    "    while(i<5):\n",
    "        name=input(\"Enter correct user name:\")\n",
    "        if(name==un):\n",
    "            print(\"login success!\")\n",
    "            break\n",
    "        i=i+1\n",
    "        if(i==5):\n",
    "            print(\"To many attempts your account is blocked for 24 hours \") \n",
    "elif (name==un and pwd!=pd):\n",
    "    j=0\n",
    "    while(j<5):\n",
    "        pd=input(\"Enter correct password:\")\n",
    "        if(pwd==pd):\n",
    "            print(\"login success!\")\n",
    "            break\n",
    "        j=j+1\n",
    "        if(j==5):\n",
    "            print(\"To many attempts your account is blocked for 24 hours\")\n",
    "        \n",
    "else:\n",
    "    print(\"your user name and password both are not valid!\")"
   ]
  }
 ],
 "metadata": {
  "kernelspec": {
   "display_name": "Python 3",
   "language": "python",
   "name": "python3"
  },
  "language_info": {
   "codemirror_mode": {
    "name": "ipython",
    "version": 3
   },
   "file_extension": ".py",
   "mimetype": "text/x-python",
   "name": "python",
   "nbconvert_exporter": "python",
   "pygments_lexer": "ipython3",
   "version": "3.8.3"
  }
 },
 "nbformat": 4,
 "nbformat_minor": 4
}
